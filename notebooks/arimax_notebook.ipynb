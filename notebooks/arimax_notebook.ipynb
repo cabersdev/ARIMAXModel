{
 "cells": [
  {
   "cell_type": "code",
   "execution_count": 5,
   "metadata": {},
   "outputs": [
    {
     "ename": "AttributeError",
     "evalue": "'ZMQInteractiveShell' object has no attribute 'magic'",
     "output_type": "error",
     "traceback": [
      "\u001b[31m---------------------------------------------------------------------------\u001b[39m",
      "\u001b[31mAttributeError\u001b[39m                            Traceback (most recent call last)",
      "\u001b[36mCell\u001b[39m\u001b[36m \u001b[39m\u001b[32mIn[5]\u001b[39m\u001b[32m, line 7\u001b[39m\n\u001b[32m      5\u001b[39m \u001b[38;5;28;01mfrom\u001b[39;00m\u001b[38;5;250m \u001b[39m\u001b[34;01mstatsmodels\u001b[39;00m\u001b[34;01m.\u001b[39;00m\u001b[34;01mtsa\u001b[39;00m\u001b[34;01m.\u001b[39;00m\u001b[34;01marima\u001b[39;00m\u001b[34;01m.\u001b[39;00m\u001b[34;01mmodel\u001b[39;00m\u001b[38;5;250m \u001b[39m\u001b[38;5;28;01mimport\u001b[39;00m ARIMA\n\u001b[32m      6\u001b[39m \u001b[38;5;28;01mimport\u001b[39;00m\u001b[38;5;250m \u001b[39m\u001b[34;01mjoblib\u001b[39;00m\n\u001b[32m----> \u001b[39m\u001b[32m7\u001b[39m \u001b[38;5;28;01mimport\u001b[39;00m\u001b[38;5;250m \u001b[39m\u001b[34;01mquantstats\u001b[39;00m\u001b[38;5;250m \u001b[39m\u001b[38;5;28;01mas\u001b[39;00m\u001b[38;5;250m \u001b[39m\u001b[34;01mqs\u001b[39;00m\n\u001b[32m      9\u001b[39m \u001b[38;5;66;03m# Configurazione grafica\u001b[39;00m\n\u001b[32m     10\u001b[39m plt.style.use(\u001b[33m'\u001b[39m\u001b[33mseaborn\u001b[39m\u001b[33m'\u001b[39m)\n",
      "\u001b[36mFile \u001b[39m\u001b[32m~/Projects/ARIMAStockForecaster/venv/lib/python3.13/site-packages/quantstats/__init__.py:31\u001b[39m\n\u001b[32m     28\u001b[39m __all__ = [\u001b[33m\"\u001b[39m\u001b[33mstats\u001b[39m\u001b[33m\"\u001b[39m, \u001b[33m\"\u001b[39m\u001b[33mplots\u001b[39m\u001b[33m\"\u001b[39m, \u001b[33m\"\u001b[39m\u001b[33mreports\u001b[39m\u001b[33m\"\u001b[39m, \u001b[33m\"\u001b[39m\u001b[33mutils\u001b[39m\u001b[33m\"\u001b[39m, \u001b[33m\"\u001b[39m\u001b[33mextend_pandas\u001b[39m\u001b[33m\"\u001b[39m]\n\u001b[32m     30\u001b[39m \u001b[38;5;66;03m# try automatic matplotlib inline\u001b[39;00m\n\u001b[32m---> \u001b[39m\u001b[32m31\u001b[39m \u001b[43mutils\u001b[49m\u001b[43m.\u001b[49m\u001b[43m_in_notebook\u001b[49m\u001b[43m(\u001b[49m\u001b[43mmatplotlib_inline\u001b[49m\u001b[43m=\u001b[49m\u001b[38;5;28;43;01mTrue\u001b[39;49;00m\u001b[43m)\u001b[49m\n\u001b[32m     34\u001b[39m \u001b[38;5;28;01mdef\u001b[39;00m\u001b[38;5;250m \u001b[39m\u001b[34mextend_pandas\u001b[39m():\n\u001b[32m     35\u001b[39m \u001b[38;5;250m    \u001b[39m\u001b[33;03m\"\"\"\u001b[39;00m\n\u001b[32m     36\u001b[39m \u001b[33;03m    Extends pandas by exposing methods to be used like:\u001b[39;00m\n\u001b[32m     37\u001b[39m \u001b[33;03m    df.sharpe(), df.best('day'), ...\u001b[39;00m\n\u001b[32m     38\u001b[39m \u001b[33;03m    \"\"\"\u001b[39;00m\n",
      "\u001b[36mFile \u001b[39m\u001b[32m~/Projects/ARIMAStockForecaster/venv/lib/python3.13/site-packages/quantstats/utils.py:310\u001b[39m, in \u001b[36m_in_notebook\u001b[39m\u001b[34m(matplotlib_inline)\u001b[39m\n\u001b[32m    307\u001b[39m \u001b[38;5;28;01mif\u001b[39;00m shell == \u001b[33m\"\u001b[39m\u001b[33mZMQInteractiveShell\u001b[39m\u001b[33m\"\u001b[39m:\n\u001b[32m    308\u001b[39m     \u001b[38;5;66;03m# Jupyter notebook or qtconsole\u001b[39;00m\n\u001b[32m    309\u001b[39m     \u001b[38;5;28;01mif\u001b[39;00m matplotlib_inline:\n\u001b[32m--> \u001b[39m\u001b[32m310\u001b[39m         \u001b[43mget_ipython\u001b[49m\u001b[43m(\u001b[49m\u001b[43m)\u001b[49m\u001b[43m.\u001b[49m\u001b[43mmagic\u001b[49m(\u001b[33m\"\u001b[39m\u001b[33mmatplotlib inline\u001b[39m\u001b[33m\"\u001b[39m)\n\u001b[32m    311\u001b[39m     \u001b[38;5;28;01mreturn\u001b[39;00m \u001b[38;5;28;01mTrue\u001b[39;00m\n\u001b[32m    312\u001b[39m \u001b[38;5;28;01mif\u001b[39;00m shell == \u001b[33m\"\u001b[39m\u001b[33mTerminalInteractiveShell\u001b[39m\u001b[33m\"\u001b[39m:\n\u001b[32m    313\u001b[39m     \u001b[38;5;66;03m# Terminal running IPython\u001b[39;00m\n",
      "\u001b[31mAttributeError\u001b[39m: 'ZMQInteractiveShell' object has no attribute 'magic'"
     ]
    }
   ],
   "source": [
    "import pandas as pd\n",
    "import numpy as np\n",
    "import matplotlib.pyplot as plt\n",
    "import seaborn as sns\n",
    "from statsmodels.tsa.arima.model import ARIMA\n",
    "import joblib\n",
    "import quantstats as qs\n",
    "\n",
    "# Configurazione grafica\n",
    "plt.style.use('seaborn')\n",
    "%matplotlib inline"
   ]
  },
  {
   "cell_type": "code",
   "execution_count": null,
   "metadata": {},
   "outputs": [],
   "source": [
    "# Carica modello addestrato\n",
    "model = joblib.load('models/arima_best.pkl')\n",
    "\n",
    "# Carica dati di test\n",
    "test_data = pd.read_csv('data/processed/test_data.csv', \n",
    "                       parse_dates=['Date'], \n",
    "                       index_col='Date')"
   ]
  },
  {
   "cell_type": "code",
   "execution_count": null,
   "metadata": {},
   "outputs": [],
   "source": [
    "print(f\"Ordine ARIMA: {model.order}\")\n",
    "print(f\"Parametri: \\n{model.params}\")"
   ]
  },
  {
   "cell_type": "code",
   "execution_count": null,
   "metadata": {},
   "outputs": [],
   "source": [
    "# Grafico dei residui\n",
    "model.plot_diagnostics(figsize=(15,10))\n",
    "plt.suptitle('Analisi Diagnostica Residui', y=1.02)\n",
    "plt.tight_layout()\n",
    "plt.show()"
   ]
  },
  {
   "cell_type": "code",
   "execution_count": null,
   "metadata": {},
   "outputs": [],
   "source": [
    "# Genera previsioni\n",
    "forecast = model.get_forecast(steps=len(test_data))\n",
    "preds = forecast.predicted_mean\n",
    "conf_int = forecast.conf_int()\n",
    "\n",
    "# Plot comparativo\n",
    "plt.figure(figsize=(14,6))\n",
    "plt.plot(test_data, label='Valori Reali', color='#2c7bb6')\n",
    "plt.plot(preds, label='Forecast', color='#d7191c', linestyle='--')\n",
    "plt.fill_between(conf_int.index, \n",
    "                 conf_int.iloc[:,0], \n",
    "                 conf_int.iloc[:,1], \n",
    "                 color='#fdae61', alpha=0.3)\n",
    "plt.title('Confronto Previsioni vs Valori Attuali')\n",
    "plt.xlabel('Data')\n",
    "plt.ylabel('Prezzo')\n",
    "plt.legend()\n",
    "plt.grid(alpha=0.3)\n",
    "plt.show()"
   ]
  },
  {
   "cell_type": "code",
   "execution_count": null,
   "metadata": {},
   "outputs": [],
   "source": [
    "# Calcola metriche\n",
    "mape = np.mean(np.abs((test_data.values - preds.values)/test_data.values)) * 100\n",
    "rmse = np.sqrt(np.mean((test_data.values - preds.values)**2))\n",
    "\n",
    "print(f\"MAPE: {mape:.2f}%\")\n",
    "print(f\"RMSE: {rmse:.2f}\")\n",
    "print(f\"Intervallo di Confidenza Medio: ±{np.mean(conf_int.diff(axis=1).values):.2f}\")\n",
    "\n",
    "# Report QuantStats\n",
    "qs.extend_pandas()\n",
    "returns = test_data.pct_change().dropna()\n",
    "pred_returns = preds.pct_change().dropna()\n",
    "qs.reports.html(returns, pred_returns, \n",
    "               output='reports/performance.html')"
   ]
  },
  {
   "cell_type": "code",
   "execution_count": null,
   "metadata": {},
   "outputs": [],
   "source": [
    "errors = test_data.values - preds.values\n",
    "plt.figure(figsize=(12,5))\n",
    "plt.plot(errors)\n",
    "plt.title('Analisi Errori nel Tempo')\n",
    "plt.xlabel('Osservazioni')\n",
    "plt.ylabel('Errore')\n",
    "plt.hlines(0, xmin=0, xmax=len(errors), colors='red')\n",
    "plt.show()"
   ]
  }
 ],
 "metadata": {
  "kernelspec": {
   "display_name": "venv",
   "language": "python",
   "name": "python3"
  },
  "language_info": {
   "codemirror_mode": {
    "name": "ipython",
    "version": 3
   },
   "file_extension": ".py",
   "mimetype": "text/x-python",
   "name": "python",
   "nbconvert_exporter": "python",
   "pygments_lexer": "ipython3",
   "version": "3.13.1"
  }
 },
 "nbformat": 4,
 "nbformat_minor": 2
}
